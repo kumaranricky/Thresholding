{
 "cells": [
  {
   "cell_type": "code",
   "execution_count": 1,
   "id": "66848448",
   "metadata": {},
   "outputs": [],
   "source": [
    "import cv2\n",
    "import matplotlib.pyplot as plt"
   ]
  },
  {
   "cell_type": "code",
   "execution_count": 2,
   "id": "3d9fee21",
   "metadata": {},
   "outputs": [],
   "source": [
    "img=cv2.imread(\"track1.jpg\",1)\n",
    "img=cv2.resize(img,(500,400))\n",
    "cv2.imshow(\"Original image\",img)\n",
    "cv2.waitKey(0)\n",
    "cv2.destroyAllWindows()"
   ]
  },
  {
   "cell_type": "code",
   "execution_count": 6,
   "id": "cdb14ad8",
   "metadata": {},
   "outputs": [],
   "source": [
    "g_img=cv2.cvtColor(img,cv2.COLOR_BGR2GRAY)\n",
    "cv2.imshow(\"Original image\",img)\n",
    "cv2.imshow(\"Gray image\",g_img)\n",
    "cv2.waitKey(0)\n",
    "cv2.destroyAllWindows()"
   ]
  },
  {
   "cell_type": "code",
   "execution_count": 5,
   "id": "8ea3d436",
   "metadata": {},
   "outputs": [],
   "source": [
    "# Use Global thresholding to segment the image\n"
   ]
  },
  {
   "cell_type": "code",
   "execution_count": 4,
   "id": "6c2e5405",
   "metadata": {},
   "outputs": [],
   "source": [
    "ret,thresh_img1=cv2.threshold(g_img,86,255,cv2.THRESH_BINARY)\n",
    "ret,thresh_img2=cv2.threshold(g_img,86,255,cv2.THRESH_BINARY_INV)\n",
    "ret,thresh_img3=cv2.threshold(g_img,86,255,cv2.THRESH_TOZERO)\n",
    "ret,thresh_img4=cv2.threshold(g_img,86,255,cv2.THRESH_TOZERO_INV)\n",
    "ret,thresh_img5=cv2.threshold(g_img,100,255,cv2.THRESH_TRUNC)"
   ]
  },
  {
   "cell_type": "code",
   "execution_count": 5,
   "id": "bea9825a",
   "metadata": {},
   "outputs": [],
   "source": [
    "cv2.imshow(\"Original image\",img)\n",
    "cv2.imshow(\"ThresholdBinary\",thresh_img1)\n",
    "cv2.imshow(\"ThresholdBinaryinv\",thresh_img2)\n",
    "cv2.imshow(\"Thresholdtozero\",thresh_img3)\n",
    "cv2.imshow(\"Thresholdtozeroinv\",thresh_img4)\n",
    "cv2.imshow(\"Thresholdtrunc\",thresh_img5)\n",
    "cv2.waitKey(0)\n",
    "cv2.destroyAllWindows()"
   ]
  },
  {
   "cell_type": "code",
   "execution_count": 7,
   "id": "0aedd624",
   "metadata": {},
   "outputs": [],
   "source": [
    "# Use Adaptive thresholding to segment the image\n"
   ]
  },
  {
   "cell_type": "code",
   "execution_count": 14,
   "id": "0f37248b",
   "metadata": {},
   "outputs": [],
   "source": [
    "thresh_img6=cv2.adaptiveThreshold(g_img,255,cv2.ADAPTIVE_THRESH_MEAN_C,cv2.THRESH_BINARY,11,2)\n",
    "thresh_img7=cv2.adaptiveThreshold(g_img,255,cv2.ADAPTIVE_THRESH_GAUSSIAN_C,cv2.THRESH_BINARY,11,2)\n",
    "cv2.imshow(\"Original image\",img)\n",
    "cv2.imshow(\"AdaptiveThresholdMean\",thresh_img6)\n",
    "cv2.imshow(\"AdaptiveThresholdGaussian\",thresh_img7)\n",
    "cv2.waitKey(0)\n",
    "cv2.destroyAllWindows()"
   ]
  },
  {
   "cell_type": "code",
   "execution_count": 12,
   "id": "4f0b607b",
   "metadata": {},
   "outputs": [],
   "source": [
    "# Otsu Threshholding"
   ]
  },
  {
   "cell_type": "code",
   "execution_count": 15,
   "id": "136cd48c",
   "metadata": {},
   "outputs": [],
   "source": [
    "ret,thresh_img8=cv2.threshold(g_img,0,255,cv2.THRESH_BINARY+cv2.THRESH_OTSU)\n",
    "cv2.imshow(\"Original image\",img)\n",
    "cv2.imshow(\"Otsu Thresholding\",thresh_img8)\n",
    "cv2.waitKey(0)\n",
    "cv2.destroyAllWindows()"
   ]
  },
  {
   "cell_type": "code",
   "execution_count": null,
   "id": "45ab4748",
   "metadata": {},
   "outputs": [],
   "source": []
  }
 ],
 "metadata": {
  "kernelspec": {
   "display_name": "Python 3",
   "language": "python",
   "name": "python3"
  },
  "language_info": {
   "codemirror_mode": {
    "name": "ipython",
    "version": 3
   },
   "file_extension": ".py",
   "mimetype": "text/x-python",
   "name": "python",
   "nbconvert_exporter": "python",
   "pygments_lexer": "ipython3",
   "version": "3.8.8"
  }
 },
 "nbformat": 4,
 "nbformat_minor": 5
}
